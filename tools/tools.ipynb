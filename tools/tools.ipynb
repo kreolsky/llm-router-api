{
 "cells": [
  {
   "cell_type": "code",
   "execution_count": null,
   "id": "aa3e754c",
   "metadata": {},
   "outputs": [],
   "source": [
    "import os\n",
    "import secrets\n",
    "\n",
    "def generate_openrouter_key():\n",
    "    # OpenRouter keys are typically sk-or-v1-<hex_string>\n",
    "    # Generate a random 32-byte hex string for the unique part\n",
    "    hex_string = secrets.token_hex(32)\n",
    "    return f\"nnp-v1-{hex_string}\"\n",
    "\n",
    "if __name__ == \"__main__\":\n",
    "    num_keys = 2\n",
    "    print(f\"Generating {num_keys} OpenRouter-like keys:\")\n",
    "    for i in range(num_keys):\n",
    "        key = generate_openrouter_key()\n",
    "        print(f\"Key {i+1}: {key}\")\n"
   ]
  },
  {
   "cell_type": "code",
   "execution_count": null,
   "id": "c5bb045d",
   "metadata": {},
   "outputs": [],
   "source": []
  }
 ],
 "metadata": {
  "kernelspec": {
   "display_name": "dev",
   "language": "python",
   "name": "python3"
  },
  "language_info": {
   "codemirror_mode": {
    "name": "ipython",
    "version": 3
   },
   "file_extension": ".py",
   "mimetype": "text/x-python",
   "name": "python",
   "nbconvert_exporter": "python",
   "pygments_lexer": "ipython3",
   "version": "3.12.8"
  }
 },
 "nbformat": 4,
 "nbformat_minor": 5
}
